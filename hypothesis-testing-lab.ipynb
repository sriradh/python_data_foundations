{
 "cells": [
  {
   "cell_type": "markdown",
   "metadata": {},
   "source": [
    "# Hospital babies\n",
    "\n",
    "We're a hospital administrator trying to promote our new prenatal nutrition classes on a scientifically valid basis.\n",
    "\n",
    "We believe that expectant mothers who take our classes give birth to above-average-weight babies.\n",
    "\n",
    "Let's try to prove it.\n",
    "\n",
    "We've had one 'class' of 37 mothers complete the program with the following baby weights:"
   ]
  },
  {
   "cell_type": "code",
   "execution_count": 1,
   "metadata": {},
   "outputs": [],
   "source": [
    "weights = [\n",
    "    3645, 3908, 3581, 1836, 4031, 4193, 3479, 3574, 3349, 3507, 3282,\n",
    "    3344, 3849, 2935, 3118, 3272, 3706, 2987, 3079, 4222, 3060, 3688,\n",
    "    3008, 2923, 3382, 3009, 3952, 3513, 3016, 3163, 3876, 3439, 2575,\n",
    "    2936, 3900, 3637, 3828\n",
    "]"
   ]
  },
  {
   "cell_type": "markdown",
   "metadata": {},
   "source": [
    "What is the mean weight of the babies in our class?"
   ]
  },
  {
   "cell_type": "code",
   "execution_count": null,
   "metadata": {},
   "outputs": [],
   "source": []
  },
  {
   "cell_type": "markdown",
   "metadata": {},
   "source": [
    "In the US in 2018, the average birth weight was 3267 g with a standard deviation of 619 g.\n",
    "\n",
    "What is the Z statistic for our class?"
   ]
  },
  {
   "cell_type": "code",
   "execution_count": null,
   "metadata": {},
   "outputs": [],
   "source": []
  },
  {
   "cell_type": "markdown",
   "metadata": {},
   "source": [
    "What is our confidence that our babies are larger? (Check http://www.z-table.com)"
   ]
  },
  {
   "cell_type": "markdown",
   "metadata": {},
   "source": [
    "...lookup on the z table..."
   ]
  },
  {
   "cell_type": "markdown",
   "metadata": {},
   "source": [
    "What do we *need* the z-score to be to be 95% confident our babies are larger?"
   ]
  },
  {
   "cell_type": "markdown",
   "metadata": {},
   "source": [
    "...lookup on the z table..."
   ]
  },
  {
   "cell_type": "markdown",
   "metadata": {},
   "source": [
    "Assuming the mean birth weight of babies in our classes does not fluctuate, how many more mothers do we need to get this z-score?"
   ]
  },
  {
   "cell_type": "markdown",
   "metadata": {},
   "source": [
    "... solve the z-score statistic formula for n ..."
   ]
  },
  {
   "cell_type": "code",
   "execution_count": null,
   "metadata": {},
   "outputs": [],
   "source": []
  }
 ],
 "metadata": {
  "kernelspec": {
   "display_name": "Python 3",
   "language": "python",
   "name": "python3"
  },
  "language_info": {
   "codemirror_mode": {
    "name": "ipython",
    "version": 3
   },
   "file_extension": ".py",
   "mimetype": "text/x-python",
   "name": "python",
   "nbconvert_exporter": "python",
   "pygments_lexer": "ipython3",
   "version": "3.7.6"
  }
 },
 "nbformat": 4,
 "nbformat_minor": 2
}
