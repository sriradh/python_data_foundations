{
 "cells": [
  {
   "cell_type": "markdown",
   "metadata": {
    "slideshow": {
     "slide_type": "slide"
    }
   },
   "source": [
    "# Machine Learning Concepts\n",
    "\n",
    "- Artificial Intelligence and Machine Learning\n",
    "- Supervised vs Unsupervised Learning\n",
    "- Classification and Regression\n",
    "- Models, features, dimensions, and other ML vocabulary"
   ]
  },
  {
   "cell_type": "markdown",
   "metadata": {
    "slideshow": {
     "slide_type": "slide"
    }
   },
   "source": [
    "# Where does Machine Learning Fit In with AI?\n",
    "\n",
    "<img src=\"./data/img/AI - ML.png \">"
   ]
  },
  {
   "cell_type": "markdown",
   "metadata": {
    "slideshow": {
     "slide_type": "fragment"
    }
   },
   "source": [
    "> ...algorithms that improve automatically through experience.... - [Wikipedia][wk-ml] entry on Machine Learning\n",
    "\n",
    "[wk-ml]: https://en.wikipedia.org/wiki/Machine_learning"
   ]
  },
  {
   "cell_type": "markdown",
   "metadata": {
    "slideshow": {
     "slide_type": "slide"
    }
   },
   "source": [
    "# Machine Learning\n",
    "\n",
    "- _is not_ an expert system or semantic knowledge graph\n",
    "- _is_ highly influenced by the data used to build the algorithm"
   ]
  },
  {
   "cell_type": "markdown",
   "metadata": {
    "slideshow": {
     "slide_type": "fragment"
    }
   },
   "source": [
    "### Traditional software development\n",
    "\n",
    "inputs + program => outputs"
   ]
  },
  {
   "cell_type": "markdown",
   "metadata": {
    "slideshow": {
     "slide_type": "fragment"
    }
   },
   "source": [
    "### Machine learning development\n",
    "\n",
    "inputs + outputs => programs"
   ]
  },
  {
   "cell_type": "markdown",
   "metadata": {
    "slideshow": {
     "slide_type": "slide"
    }
   },
   "source": [
    "# What kinds of problems can we solve with ML?\n",
    "\n",
    "- **Predict** a category (classification)\n",
    "  - Does a given test result indicate infection?\n",
    "  - Is this person a good credit risk?\n",
    "  - What species of flower is this?"
   ]
  },
  {
   "cell_type": "markdown",
   "metadata": {
    "slideshow": {
     "slide_type": "fragment"
    }
   },
   "source": [
    "- **Predict** a numerical value (regression)\n",
    "  - What is this house worth?\n",
    "  - How much will this disease progress?"
   ]
  },
  {
   "cell_type": "markdown",
   "metadata": {
    "slideshow": {
     "slide_type": "slide"
    }
   },
   "source": [
    "- **Identify** the structure of data (clustering)\n",
    "  - Are there groups of customers who behave similarly (and would respond similarly to our marketing)?\n",
    "  - Can we break down this larger ML problem into different clusters which might need _different_ models?\n",
    "  - What are the top 3 colors in this image?"
   ]
  },
  {
   "cell_type": "markdown",
   "metadata": {
    "slideshow": {
     "slide_type": "fragment"
    }
   },
   "source": [
    "... and more, but we'll focus on these"
   ]
  },
  {
   "cell_type": "markdown",
   "metadata": {
    "slideshow": {
     "slide_type": "slide"
    }
   },
   "source": [
    "# Supervised Learning\n",
    "\n",
    "**Given**\n",
    "\n",
    "- Example input data ('features')\n",
    "- Known correct output data ('labels')\n"
   ]
  },
  {
   "cell_type": "markdown",
   "metadata": {
    "slideshow": {
     "slide_type": "fragment"
    }
   },
   "source": [
    "... produce a function ('model') which will generate correct output for **novel** inputs"
   ]
  },
  {
   "cell_type": "markdown",
   "metadata": {
    "slideshow": {
     "slide_type": "fragment"
    }
   },
   "source": [
    "Classification and regression are both examples of supervised learning"
   ]
  },
  {
   "cell_type": "markdown",
   "metadata": {
    "slideshow": {
     "slide_type": "slide"
    }
   },
   "source": [
    "# Unsupervised Learning \n",
    "\n",
    "(clustering in particular)\n",
    "\n",
    "**Given** \n",
    "\n",
    "- Example input data\n"
   ]
  },
  {
   "cell_type": "markdown",
   "metadata": {
    "slideshow": {
     "slide_type": "fragment"
    }
   },
   "source": [
    "... produce a function that maps each input point to a cluster of inputs that are 'similar' to one another"
   ]
  },
  {
   "cell_type": "markdown",
   "metadata": {
    "slideshow": {
     "slide_type": "fragment"
    }
   },
   "source": [
    "The key is that we don't know the 'correct answers' (labels) _a priori_ , so the model has to 'figure it out'"
   ]
  },
  {
   "cell_type": "markdown",
   "metadata": {
    "slideshow": {
     "slide_type": "slide"
    }
   },
   "source": [
    "# Some ML Terminology\n",
    "\n",
    "- **model** - the 'function' we are building to make predictions/clusters\n",
    "- **training**/**fitting** - the process of building the model based on input data\n",
    "- **features**/**dimensions** - the different measurements that we keep *for each piece of input data* (e.g. the number of times a person has missed a credit card payment)\n",
    "- **samples** - the individual events used to train our model (each sample will have one or more features)\n",
    "- **labels** - the known good outputs used in supervised training\n",
    "- **inference**/**prediction** - using the model we have trained to generate outputs based on novel (unseen) data"
   ]
  },
  {
   "cell_type": "markdown",
   "metadata": {
    "slideshow": {
     "slide_type": "slide"
    }
   },
   "source": [
    "### Supervised ML\n",
    "\n",
    "We use our input **samples** (which have a number of **features** and one or more **labels**) to **train** our **model**, which we will then use to **predict** labels for never-before-seen samples"
   ]
  },
  {
   "cell_type": "markdown",
   "metadata": {
    "slideshow": {
     "slide_type": "fragment"
    }
   },
   "source": [
    "### Unsupervised ML\n",
    "\n",
    "We use our input **samples** (which have **features** but no **labels**) to **train** a **model** which groups samples into clusters"
   ]
  }
 ],
 "metadata": {
  "celltoolbar": "Slideshow",
  "kernelspec": {
   "display_name": "Python 3",
   "language": "python",
   "name": "python3"
  },
  "language_info": {
   "codemirror_mode": {
    "name": "ipython",
    "version": 3
   },
   "file_extension": ".py",
   "mimetype": "text/x-python",
   "name": "python",
   "nbconvert_exporter": "python",
   "pygments_lexer": "ipython3",
   "version": "3.7.6"
  }
 },
 "nbformat": 4,
 "nbformat_minor": 2
}
