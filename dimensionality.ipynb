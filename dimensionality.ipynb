{
 "cells": [
  {
   "cell_type": "markdown",
   "metadata": {
    "slideshow": {
     "slide_type": "slide"
    }
   },
   "source": [
    "# The Curse of Dimensionality\n",
    "\n",
    "More features/flexibility is better, right?\n",
    "\n",
    "... sometimes ..."
   ]
  },
  {
   "cell_type": "code",
   "execution_count": 1,
   "metadata": {
    "slideshow": {
     "slide_type": "skip"
    }
   },
   "outputs": [],
   "source": [
    "%matplotlib inline\n",
    "import numpy as np\n",
    "import pandas as pd\n",
    "import matplotlib.pyplot as plt\n",
    "from sklearn.datasets import make_blobs"
   ]
  },
  {
   "cell_type": "code",
   "execution_count": 2,
   "metadata": {
    "slideshow": {
     "slide_type": "slide"
    }
   },
   "outputs": [
    {
     "data": {
      "image/png": "[encoded data removed]",
      "text/plain": [
       "<Figure size 432x288 with 2 Axes>"
      ]
     },
     "metadata": {
      "needs_background": "light"
     },
     "output_type": "display_data"
    }
   ],
   "source": [
    "np.random.seed(3)\n",
    "dataset = make_blobs(centers=2, n_features=1)\n",
    "X, y = dataset\n",
    "plt.scatter(X[:,0], np.random.randn(len(X)), c=y)\n",
    "plt.colorbar()\n",
    "plt.axis('equal');\n",
    "\n"
   ]
  },
  {
   "cell_type": "markdown",
   "metadata": {
    "slideshow": {
     "slide_type": "slide"
    }
   },
   "source": [
    "## Build a simple model\n",
    "\n",
    "Suppose we wanted to build a model that predicted the probability that a given X value was a '1'\n",
    "\n",
    "We could divide the X values into regions and count..."
   ]
  },
  {
   "cell_type": "code",
   "execution_count": 3,
   "metadata": {
    "slideshow": {
     "slide_type": "fragment"
    }
   },
   "outputs": [
    {
     "data": {
      "text/html": [
       "<div>\n",
       "<style scoped>\n",
       "    .dataframe tbody tr th:only-of-type {\n",
       "        vertical-align: middle;\n",
       "    }\n",
       "\n",
       "    .dataframe tbody tr th {\n",
       "        vertical-align: top;\n",
       "    }\n",
       "\n",
       "    .dataframe thead th {\n",
       "        text-align: right;\n",
       "    }\n",
       "</style>\n",
       "<table border=\"1\" class=\"dataframe\">\n",
       "  <thead>\n",
       "    <tr style=\"text-align: right;\">\n",
       "      <th></th>\n",
       "      <th>x</th>\n",
       "      <th>target</th>\n",
       "    </tr>\n",
       "  </thead>\n",
       "  <tbody>\n",
       "    <tr>\n",
       "      <th>0</th>\n",
       "      <td>3.588248</td>\n",
       "      <td>1</td>\n",
       "    </tr>\n",
       "    <tr>\n",
       "      <th>1</th>\n",
       "      <td>4.401520</td>\n",
       "      <td>1</td>\n",
       "    </tr>\n",
       "    <tr>\n",
       "      <th>2</th>\n",
       "      <td>-0.847535</td>\n",
       "      <td>0</td>\n",
       "    </tr>\n",
       "    <tr>\n",
       "      <th>3</th>\n",
       "      <td>4.313573</td>\n",
       "      <td>1</td>\n",
       "    </tr>\n",
       "    <tr>\n",
       "      <th>4</th>\n",
       "      <td>3.646539</td>\n",
       "      <td>1</td>\n",
       "    </tr>\n",
       "  </tbody>\n",
       "</table>\n",
       "</div>"
      ],
      "text/plain": [
       "          x  target\n",
       "0  3.588248       1\n",
       "1  4.401520       1\n",
       "2 -0.847535       0\n",
       "3  4.313573       1\n",
       "4  3.646539       1"
      ]
     },
     "execution_count": 3,
     "metadata": {},
     "output_type": "execute_result"
    }
   ],
   "source": [
    "data = pd.concat([\n",
    "    pd.DataFrame(X, columns=['x']),\n",
    "    pd.Series(y, name='target')\n",
    "], axis=1)\n",
    "data.head()"
   ]
  },
  {
   "cell_type": "code",
   "execution_count": 4,
   "metadata": {
    "slideshow": {
     "slide_type": "slide"
    }
   },
   "outputs": [
    {
     "data": {
      "text/html": [
       "<div>\n",
       "<style scoped>\n",
       "    .dataframe tbody tr th:only-of-type {\n",
       "        vertical-align: middle;\n",
       "    }\n",
       "\n",
       "    .dataframe tbody tr th {\n",
       "        vertical-align: top;\n",
       "    }\n",
       "\n",
       "    .dataframe thead th {\n",
       "        text-align: right;\n",
       "    }\n",
       "</style>\n",
       "<table border=\"1\" class=\"dataframe\">\n",
       "  <thead>\n",
       "    <tr style=\"text-align: right;\">\n",
       "      <th></th>\n",
       "      <th>x</th>\n",
       "      <th>target</th>\n",
       "      <th>bin</th>\n",
       "    </tr>\n",
       "  </thead>\n",
       "  <tbody>\n",
       "    <tr>\n",
       "      <th>0</th>\n",
       "      <td>3.588248</td>\n",
       "      <td>1</td>\n",
       "      <td>(2.459, 4.39]</td>\n",
       "    </tr>\n",
       "    <tr>\n",
       "      <th>1</th>\n",
       "      <td>4.401520</td>\n",
       "      <td>1</td>\n",
       "      <td>(4.39, 6.321]</td>\n",
       "    </tr>\n",
       "    <tr>\n",
       "      <th>2</th>\n",
       "      <td>-0.847535</td>\n",
       "      <td>0</td>\n",
       "      <td>(-1.411, 0.528]</td>\n",
       "    </tr>\n",
       "    <tr>\n",
       "      <th>3</th>\n",
       "      <td>4.313573</td>\n",
       "      <td>1</td>\n",
       "      <td>(2.459, 4.39]</td>\n",
       "    </tr>\n",
       "    <tr>\n",
       "      <th>4</th>\n",
       "      <td>3.646539</td>\n",
       "      <td>1</td>\n",
       "      <td>(2.459, 4.39]</td>\n",
       "    </tr>\n",
       "  </tbody>\n",
       "</table>\n",
       "</div>"
      ],
      "text/plain": [
       "          x  target              bin\n",
       "0  3.588248       1    (2.459, 4.39]\n",
       "1  4.401520       1    (4.39, 6.321]\n",
       "2 -0.847535       0  (-1.411, 0.528]\n",
       "3  4.313573       1    (2.459, 4.39]\n",
       "4  3.646539       1    (2.459, 4.39]"
      ]
     },
     "execution_count": 4,
     "metadata": {},
     "output_type": "execute_result"
    }
   ],
   "source": [
    "data['bin'] = pd.cut(data.x, 4)\n",
    "data.head()"
   ]
  },
  {
   "cell_type": "code",
   "execution_count": 5,
   "metadata": {
    "slideshow": {
     "slide_type": "fragment"
    }
   },
   "outputs": [
    {
     "data": {
      "text/plain": [
       "bin\n",
       "(-1.411, 0.528]    0.000000\n",
       "(0.528, 2.459]     0.107143\n",
       "(2.459, 4.39]      0.888889\n",
       "(4.39, 6.321]      1.000000\n",
       "Name: target, dtype: float64"
      ]
     },
     "execution_count": 5,
     "metadata": {},
     "output_type": "execute_result"
    }
   ],
   "source": [
    "predictions = data.groupby('bin').target.mean()\n",
    "predictions"
   ]
  },
  {
   "cell_type": "markdown",
   "metadata": {
    "slideshow": {
     "slide_type": "slide"
    }
   },
   "source": [
    "So our model says that if x is:\n",
    "\n",
    "- Less than 0.528, 0% chance the target is 1\n",
    "- Between .528 and 2.459, 11% chance the target is 1\n",
    "- Between 2.459 and 4.39, 89% chance the target is 1\n",
    "- Greater than 4.39, 100% chance the target is 1\n",
    "\n",
    "The basis for the predictions is the number of observations in each of our 'bins':"
   ]
  },
  {
   "cell_type": "code",
   "execution_count": 6,
   "metadata": {
    "slideshow": {
     "slide_type": "slide"
    }
   },
   "outputs": [
    {
     "data": {
      "text/plain": [
       "bin\n",
       "(-1.411, 0.528]    22\n",
       "(0.528, 2.459]     28\n",
       "(2.459, 4.39]      27\n",
       "(4.39, 6.321]      23\n",
       "Name: target, dtype: int64"
      ]
     },
     "execution_count": 6,
     "metadata": {},
     "output_type": "execute_result"
    }
   ],
   "source": [
    "support = data.groupby('bin').target.count()\n",
    "support"
   ]
  },
  {
   "cell_type": "code",
   "execution_count": 7,
   "metadata": {
    "slideshow": {
     "slide_type": "fragment"
    }
   },
   "outputs": [
    {
     "data": {
      "text/plain": [
       "25.0"
      ]
     },
     "execution_count": 7,
     "metadata": {},
     "output_type": "execute_result"
    }
   ],
   "source": [
    "points_per_bin = support.mean()\n",
    "points_per_bin"
   ]
  },
  {
   "cell_type": "markdown",
   "metadata": {
    "slideshow": {
     "slide_type": "slide"
    }
   },
   "source": [
    "# Adding features\n",
    "\n",
    "So what happens if we add more features (dimensions)?"
   ]
  },
  {
   "cell_type": "code",
   "execution_count": 8,
   "metadata": {},
   "outputs": [
    {
     "data": {
      "image/png": "[encoded data removed]",
      "text/plain": [
       "<Figure size 432x288 with 2 Axes>"
      ]
     },
     "metadata": {
      "needs_background": "light"
     },
     "output_type": "display_data"
    }
   ],
   "source": [
    "dataset = make_blobs(centers=2, n_features=2, cluster_std=5)\n",
    "X, y = dataset\n",
    "plt.scatter(X[:,0], X[:,1], c=y)\n",
    "plt.colorbar()\n",
    "plt.axis('equal');\n",
    "\n"
   ]
  },
  {
   "cell_type": "markdown",
   "metadata": {
    "slideshow": {
     "slide_type": "slide"
    }
   },
   "source": [
    "# Simple model\n",
    "\n",
    "When we come up with our bins, we have to create them in *2* dimensions now:"
   ]
  },
  {
   "cell_type": "code",
   "execution_count": 9,
   "metadata": {
    "slideshow": {
     "slide_type": "fragment"
    }
   },
   "outputs": [
    {
     "data": {
      "text/html": [
       "<div>\n",
       "<style scoped>\n",
       "    .dataframe tbody tr th:only-of-type {\n",
       "        vertical-align: middle;\n",
       "    }\n",
       "\n",
       "    .dataframe tbody tr th {\n",
       "        vertical-align: top;\n",
       "    }\n",
       "\n",
       "    .dataframe thead th {\n",
       "        text-align: right;\n",
       "    }\n",
       "</style>\n",
       "<table border=\"1\" class=\"dataframe\">\n",
       "  <thead>\n",
       "    <tr style=\"text-align: right;\">\n",
       "      <th></th>\n",
       "      <th>x</th>\n",
       "      <th>y</th>\n",
       "      <th>target</th>\n",
       "      <th>bin_x</th>\n",
       "      <th>bin_y</th>\n",
       "    </tr>\n",
       "  </thead>\n",
       "  <tbody>\n",
       "    <tr>\n",
       "      <th>0</th>\n",
       "      <td>4.782815</td>\n",
       "      <td>5.971820</td>\n",
       "      <td>1</td>\n",
       "      <td>(3.121, 11.12]</td>\n",
       "      <td>(3.188, 10.934]</td>\n",
       "    </tr>\n",
       "    <tr>\n",
       "      <th>1</th>\n",
       "      <td>-9.377344</td>\n",
       "      <td>1.548172</td>\n",
       "      <td>0</td>\n",
       "      <td>(-12.91, -4.879]</td>\n",
       "      <td>(-4.557, 3.188]</td>\n",
       "    </tr>\n",
       "    <tr>\n",
       "      <th>2</th>\n",
       "      <td>9.253301</td>\n",
       "      <td>8.070571</td>\n",
       "      <td>1</td>\n",
       "      <td>(3.121, 11.12]</td>\n",
       "      <td>(3.188, 10.934]</td>\n",
       "    </tr>\n",
       "    <tr>\n",
       "      <th>3</th>\n",
       "      <td>2.339790</td>\n",
       "      <td>-5.329929</td>\n",
       "      <td>0</td>\n",
       "      <td>(-4.879, 3.121]</td>\n",
       "      <td>(-12.334, -4.557]</td>\n",
       "    </tr>\n",
       "    <tr>\n",
       "      <th>4</th>\n",
       "      <td>-0.576820</td>\n",
       "      <td>13.081431</td>\n",
       "      <td>0</td>\n",
       "      <td>(-4.879, 3.121]</td>\n",
       "      <td>(10.934, 18.68]</td>\n",
       "    </tr>\n",
       "  </tbody>\n",
       "</table>\n",
       "</div>"
      ],
      "text/plain": [
       "          x          y  target             bin_x              bin_y\n",
       "0  4.782815   5.971820       1    (3.121, 11.12]    (3.188, 10.934]\n",
       "1 -9.377344   1.548172       0  (-12.91, -4.879]    (-4.557, 3.188]\n",
       "2  9.253301   8.070571       1    (3.121, 11.12]    (3.188, 10.934]\n",
       "3  2.339790  -5.329929       0   (-4.879, 3.121]  (-12.334, -4.557]\n",
       "4 -0.576820  13.081431       0   (-4.879, 3.121]    (10.934, 18.68]"
      ]
     },
     "execution_count": 9,
     "metadata": {},
     "output_type": "execute_result"
    }
   ],
   "source": [
    "data = pd.concat([\n",
    "    pd.DataFrame(X, columns=['x', 'y']),\n",
    "    pd.Series(y, name='target')\n",
    "], axis=1)\n",
    "data.head()\n",
    "data['bin_x'] = pd.cut(data.x, 4)\n",
    "data['bin_y'] = pd.cut(data.y, 4)\n",
    "data.head()"
   ]
  },
  {
   "cell_type": "code",
   "execution_count": 10,
   "metadata": {
    "slideshow": {
     "slide_type": "slide"
    }
   },
   "outputs": [
    {
     "data": {
      "text/plain": [
       "bin_x             bin_y            \n",
       "(-12.91, -4.879]  (-12.334, -4.557]    0.000000\n",
       "                  (-4.557, 3.188]      0.000000\n",
       "                  (3.188, 10.934]      0.000000\n",
       "                  (10.934, 18.68]      0.000000\n",
       "(-4.879, 3.121]   (-12.334, -4.557]    0.000000\n",
       "                  (-4.557, 3.188]      0.111111\n",
       "                  (3.188, 10.934]      0.181818\n",
       "                  (10.934, 18.68]      0.000000\n",
       "(3.121, 11.12]    (-12.334, -4.557]    1.000000\n",
       "                  (-4.557, 3.188]      0.400000\n",
       "                  (3.188, 10.934]      1.000000\n",
       "                  (10.934, 18.68]      0.900000\n",
       "(11.12, 19.119]   (-12.334, -4.557]         NaN\n",
       "                  (-4.557, 3.188]      1.000000\n",
       "                  (3.188, 10.934]      1.000000\n",
       "                  (10.934, 18.68]      1.000000\n",
       "Name: target, dtype: float64"
      ]
     },
     "execution_count": 10,
     "metadata": {},
     "output_type": "execute_result"
    }
   ],
   "source": [
    "predictions = data.groupby(['bin_x', 'bin_y']).target.mean()\n",
    "predictions"
   ]
  },
  {
   "cell_type": "markdown",
   "metadata": {
    "slideshow": {
     "slide_type": "slide"
    }
   },
   "source": [
    "We can make a model, but our support has become **sparse**. One bin in particular `(11.12, 19.119], (-12.334, -4.557]` has no samples at all."
   ]
  },
  {
   "cell_type": "code",
   "execution_count": 11,
   "metadata": {},
   "outputs": [
    {
     "data": {
      "text/plain": [
       "(bin_x             bin_y            \n",
       " (-12.91, -4.879]  (-12.334, -4.557]     2\n",
       "                   (-4.557, 3.188]      15\n",
       "                   (3.188, 10.934]       3\n",
       "                   (10.934, 18.68]       1\n",
       " (-4.879, 3.121]   (-12.334, -4.557]     5\n",
       "                   (-4.557, 3.188]       9\n",
       "                   (3.188, 10.934]      11\n",
       "                   (10.934, 18.68]       3\n",
       " (3.121, 11.12]    (-12.334, -4.557]     1\n",
       "                   (-4.557, 3.188]       5\n",
       "                   (3.188, 10.934]      18\n",
       "                   (10.934, 18.68]      10\n",
       " (11.12, 19.119]   (-4.557, 3.188]       3\n",
       "                   (3.188, 10.934]      10\n",
       "                   (10.934, 18.68]       4\n",
       " Name: target, dtype: int64, 15)"
      ]
     },
     "execution_count": 11,
     "metadata": {},
     "output_type": "execute_result"
    }
   ],
   "source": [
    "support = data.groupby(['bin_x', 'bin_y']).target.count()\n",
    "support, len(support)"
   ]
  },
  {
   "cell_type": "markdown",
   "metadata": {
    "slideshow": {
     "slide_type": "slide"
    }
   },
   "source": [
    "# As we increase the number of dimensions without increasing the number of samples, our data becomes very _sparse_ and hard to model"
   ]
  },
  {
   "cell_type": "code",
   "execution_count": 12,
   "metadata": {
    "slideshow": {
     "slide_type": "fragment"
    }
   },
   "outputs": [
    {
     "data": {
      "text/plain": [
       "6.25"
      ]
     },
     "execution_count": 12,
     "metadata": {},
     "output_type": "execute_result"
    }
   ],
   "source": [
    "avg_density = len(data) / 16\n",
    "avg_density"
   ]
  },
  {
   "cell_type": "markdown",
   "metadata": {
    "slideshow": {
     "slide_type": "slide"
    }
   },
   "source": [
    "# We need to select the *correct* number of features\n",
    "\n",
    "- We must have enough information to detect the features which cause changes in the output\n",
    "- ... **without** making our data so sparse we can't detect the patterns\n",
    "\n",
    "\"Rules of thumb\" vary on this, but I've seen 10-50 as reasonable minimum number of samples per feature."
   ]
  }
 ],
 "metadata": {
  "celltoolbar": "Slideshow",
  "kernelspec": {
   "display_name": "Python 3",
   "language": "python",
   "name": "python3"
  },
  "language_info": {
   "codemirror_mode": {
    "name": "ipython",
    "version": 3
   },
   "file_extension": ".py",
   "mimetype": "text/x-python",
   "name": "python",
   "nbconvert_exporter": "python",
   "pygments_lexer": "ipython3",
   "version": "3.7.6"
  }
 },
 "nbformat": 4,
 "nbformat_minor": 2
}
