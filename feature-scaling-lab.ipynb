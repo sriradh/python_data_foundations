{
 "cells": [
  {
   "cell_type": "markdown",
   "metadata": {},
   "source": [
    "# Feature Scaling Lab\n",
    "\n",
    "Use the machine CPU dataset:"
   ]
  },
  {
   "cell_type": "code",
   "execution_count": 4,
   "metadata": {},
   "outputs": [
    {
     "name": "stdout",
     "output_type": "stream",
     "text": [
      "**Author**:   \n",
      "**Source**: Unknown -   \n",
      "**Please cite**:   \n",
      "\n",
      "The problem concerns Relative CPU Performance Data. More information can be obtained in the UCI Machine\n",
      " Learning repository (http://www.ics.uci.edu/~mlearn/MLSummary.html).\n",
      " The used attributes are :\n",
      " MYCT: machine cycle time in nanoseconds (integer)\n",
      " MMIN: minimum main memory in kilobytes (integer)\n",
      " MMAX: maximum main memory in kilobytes (integer)\n",
      " CACH: cache memory in kilobytes (integer)\n",
      " CHMIN: minimum channels in units (integer)\n",
      " CHMAX: maximum channels in units (integer)\n",
      " PRP: published relative performance (integer) (target variable)\n",
      " \n",
      " Original source: UCI machine learning repository. \n",
      " Source: collection of regression datasets by Luis Torgo (ltorgo@ncc.up.pt) at\n",
      " http://www.ncc.up.pt/~ltorgo/Regression/DataSets.html\n",
      " Characteristics: 209 cases; 6 continuous variables\n",
      "\n",
      "Downloaded from openml.org.\n"
     ]
    }
   ],
   "source": [
    "from sklearn.datasets import fetch_openml\n",
    "\n",
    "data = fetch_openml('machine_cpu', version=1)\n",
    "print(data.DESCR)"
   ]
  },
  {
   "cell_type": "markdown",
   "metadata": {},
   "source": [
    "Train a linear model with and without scaling and compare the feature importance (as evaluated by coefficient sizes):"
   ]
  },
  {
   "cell_type": "code",
   "execution_count": null,
   "metadata": {},
   "outputs": [],
   "source": []
  },
  {
   "cell_type": "code",
   "execution_count": null,
   "metadata": {},
   "outputs": [],
   "source": []
  },
  {
   "cell_type": "code",
   "execution_count": null,
   "metadata": {},
   "outputs": [],
   "source": []
  }
 ],
 "metadata": {
  "kernelspec": {
   "display_name": "Python 3",
   "language": "python",
   "name": "python3"
  },
  "language_info": {
   "codemirror_mode": {
    "name": "ipython",
    "version": 3
   },
   "file_extension": ".py",
   "mimetype": "text/x-python",
   "name": "python",
   "nbconvert_exporter": "python",
   "pygments_lexer": "ipython3",
   "version": "3.7.6"
  }
 },
 "nbformat": 4,
 "nbformat_minor": 2
}
