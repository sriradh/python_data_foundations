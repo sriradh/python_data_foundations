{
 "cells": [
  {
   "cell_type": "markdown",
   "metadata": {},
   "source": [
    "# Scikit-Learn Data Model and main APIs"
   ]
  },
  {
   "cell_type": "markdown",
   "metadata": {},
   "source": [
    "# sklearn Roadmap\n",
    "\n",
    "https://scikit-learn.org/stable/tutorial/machine_learning_map/index.html\n",
    "<img src=\"https://scikit-learn.org/stable/_static/ml_map.png\" width=\"800\">\n",
    "\n"
   ]
  },
  {
   "cell_type": "markdown",
   "metadata": {},
   "source": [
    "## Supervised ML Model\n",
    "\n",
    "![ML: Supervised](data/img/ML_Supervised.png)\n",
    "\n",
    "Main API: `model.fit(X, y)`, `model.predict(X)`"
   ]
  },
  {
   "cell_type": "markdown",
   "metadata": {},
   "source": [
    "# Unsupervised ML Model\n",
    "\n",
    "![ML: Unsupervised](data/img/ML_Unsupervised.png)\n",
    "\n",
    "Main API: `model.fit(X)`"
   ]
  },
  {
   "cell_type": "markdown",
   "metadata": {},
   "source": [
    "# Big idea: Test vs Training Data\n",
    "\n",
    "ML fits a model by minimizing error on some \"training set\"\n",
    "\n",
    "We don't actually care much about our training error; we want to know how the model does on **data we haven't seen yet**\n",
    "\n",
    "So we'll split our input data into **training** and a **test** data sets.\n",
    "\n",
    "![test-train](data/img/test-train.png)"
   ]
  },
  {
   "cell_type": "code",
   "execution_count": null,
   "metadata": {},
   "outputs": [],
   "source": []
  }
 ],
 "metadata": {
  "kernelspec": {
   "display_name": "Python 3",
   "language": "python",
   "name": "python3"
  },
  "language_info": {
   "codemirror_mode": {
    "name": "ipython",
    "version": 3
   },
   "file_extension": ".py",
   "mimetype": "text/x-python",
   "name": "python",
   "nbconvert_exporter": "python",
   "pygments_lexer": "ipython3",
   "version": "3.7.6"
  }
 },
 "nbformat": 4,
 "nbformat_minor": 2
}
