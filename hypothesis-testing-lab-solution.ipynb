{
 "cells": [
  {
   "cell_type": "markdown",
   "metadata": {},
   "source": [
    "# Hospital babies\n",
    "\n",
    "We're a hospital administrator trying to promote our new prenatal nutrition classes on a scientifically valid basis.\n",
    "\n",
    "We believe that expectant mothers who take our classes give birth to above-average-weight babies.\n",
    "\n",
    "Let's try to prove it.\n",
    "\n",
    "We've had one 'class' of 37 mothers complete the program with the following baby weights:"
   ]
  },
  {
   "cell_type": "code",
   "execution_count": 26,
   "metadata": {},
   "outputs": [
    {
     "data": {
      "text/plain": [
       "array([3645, 3908, 3581, 1836, 4031, 4193, 3479, 3574, 3349, 3507, 3282,\n",
       "       3344, 3849, 2935, 3118, 3272, 3706, 2987, 3079, 4222, 3060, 3688,\n",
       "       3008, 2923, 3382, 3009, 3952, 3513, 3016, 3163, 3876, 3439, 2575,\n",
       "       2936, 3900, 3637, 3828])"
      ]
     },
     "execution_count": 26,
     "metadata": {},
     "output_type": "execute_result"
    }
   ],
   "source": [
    "import numpy as np\n",
    "np.random.normal(loc=3400, scale=620, size=37).round().astype(int)"
   ]
  },
  {
   "cell_type": "code",
   "execution_count": 27,
   "metadata": {},
   "outputs": [],
   "source": [
    "weights = [\n",
    "    3645, 3908, 3581, 1836, 4031, 4193, 3479, 3574, 3349, 3507, 3282,\n",
    "    3344, 3849, 2935, 3118, 3272, 3706, 2987, 3079, 4222, 3060, 3688,\n",
    "    3008, 2923, 3382, 3009, 3952, 3513, 3016, 3163, 3876, 3439, 2575,\n",
    "    2936, 3900, 3637, 3828\n",
    "]"
   ]
  },
  {
   "cell_type": "markdown",
   "metadata": {},
   "source": [
    "What is the mean weight of the babies in our class?"
   ]
  },
  {
   "cell_type": "code",
   "execution_count": 29,
   "metadata": {},
   "outputs": [
    {
     "data": {
      "text/plain": [
       "3400.054054054054"
      ]
     },
     "execution_count": 29,
     "metadata": {},
     "output_type": "execute_result"
    }
   ],
   "source": [
    "mean_weight = np.mean(weights)\n",
    "mean_weight"
   ]
  },
  {
   "cell_type": "markdown",
   "metadata": {},
   "source": [
    "In the US in 2018, the average birth weight was 3267 g with a standard deviation of 619 g.\n",
    "\n",
    "What is the Z statistic for our class?"
   ]
  },
  {
   "cell_type": "code",
   "execution_count": 30,
   "metadata": {},
   "outputs": [
    {
     "data": {
      "text/plain": [
       "1.3074898457258073"
      ]
     },
     "execution_count": 30,
     "metadata": {},
     "output_type": "execute_result"
    }
   ],
   "source": [
    "z = (mean_weight - 3267) / (619 / np.sqrt(37))\n",
    "z"
   ]
  },
  {
   "cell_type": "markdown",
   "metadata": {},
   "source": [
    "What is our confidence that our babies are larger? (Check http://www.z-table.com)"
   ]
  },
  {
   "cell_type": "markdown",
   "metadata": {},
   "source": [
    "about 90%"
   ]
  },
  {
   "cell_type": "markdown",
   "metadata": {},
   "source": [
    "What do we *need* the z-score to be to be 95% confident our babies are larger?"
   ]
  },
  {
   "cell_type": "markdown",
   "metadata": {},
   "source": [
    "1.65"
   ]
  },
  {
   "cell_type": "markdown",
   "metadata": {},
   "source": [
    "Assuming the mean birth weight of babies in our classes does not fluctuate, how many more mothers do we need to get this z-score?"
   ]
  },
  {
   "cell_type": "markdown",
   "metadata": {},
   "source": [
    "```\n",
    "\n",
    "1.65 = (mean_weight - 3267) / (619 / np.sqrt(n)) = np.sqrt(n) * (mean_weight - 3267) / 619\n",
    "\n",
    "...  = np.sqrt(n) * 0.21495\n",
    "\n",
    "...solve for n...\n",
    "\n",
    "(1.65 / 0.21495) ** 2 = n\n",
    "```"
   ]
  },
  {
   "cell_type": "code",
   "execution_count": 32,
   "metadata": {},
   "outputs": [
    {
     "data": {
      "text/plain": [
       "58.924104292742726"
      ]
     },
     "execution_count": 32,
     "metadata": {},
     "output_type": "execute_result"
    }
   ],
   "source": [
    "(1.65 / 0.21495) ** 2"
   ]
  },
  {
   "cell_type": "markdown",
   "metadata": {},
   "source": [
    "So if we had a total of 59 (22 more) babies born from our classes with the same mean weight, we'd be 95% confident they are actually heavier on average than the population."
   ]
  }
 ],
 "metadata": {
  "kernelspec": {
   "display_name": "Python 3",
   "language": "python",
   "name": "python3"
  },
  "language_info": {
   "codemirror_mode": {
    "name": "ipython",
    "version": 3
   },
   "file_extension": ".py",
   "mimetype": "text/x-python",
   "name": "python",
   "nbconvert_exporter": "python",
   "pygments_lexer": "ipython3",
   "version": "3.7.6"
  }
 },
 "nbformat": 4,
 "nbformat_minor": 2
}
