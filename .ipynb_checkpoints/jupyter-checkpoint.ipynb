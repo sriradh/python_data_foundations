{
 "cells": [
  {
   "cell_type": "markdown",
   "metadata": {},
   "source": [
    "# Jupyter, briefly\n",
    "\n",
    "- Web-based interface to several different programming languages, but started with Python\n",
    "- The Jupyter **server** is what started when you ran `jupyter notebook`\n",
    "- When you open (or create) a Notebook (`.ipynb`) file in Jupyter, the server starts a **kernel** (a Python interpreter dedicated to that notebook)\n",
    "- Notebooks are organized into **cells**, which may be either code (Python) or Markdown cells.\n",
    "- When you execute a Python cell, it is sent to the kernel, executed, and the notebook then shows the output of running the cell"
   ]
  },
  {
   "cell_type": "code",
   "execution_count": 1,
   "metadata": {},
   "outputs": [
    {
     "name": "stdout",
     "output_type": "stream",
     "text": [
      "Hello Class VIRTUALLY!\n"
     ]
    }
   ],
   "source": [
    "print('Hello Class VIRTUALLY!')"
   ]
  },
  {
   "cell_type": "code",
   "execution_count": 2,
   "metadata": {
    "scrolled": false
   },
   "outputs": [
    {
     "data": {
      "text/plain": [
       "15"
      ]
     },
     "execution_count": 2,
     "metadata": {},
     "output_type": "execute_result"
    }
   ],
   "source": [
    "5 + 10"
   ]
  },
  {
   "cell_type": "markdown",
   "metadata": {},
   "source": [
    "## Why Jupyter\n",
    "\n",
    "- Training (lets you walk through examples, change things, and keep a record of what you did)\n",
    "- Exploration of data / APIs where it's good to keep a record of what you did (data scientists love their notebooks!)\n",
    "- Prototyping an algorithm to be \"productionalized\" later"
   ]
  },
  {
   "cell_type": "markdown",
   "metadata": {},
   "source": [
    "## Why not Jupyter\n",
    "\n",
    "- Running in production\n",
    "- Not great with source control (notebooks are stored as JSON, which does not diff well)"
   ]
  },
  {
   "cell_type": "markdown",
   "metadata": {},
   "source": [
    "## \"Restart and run all,\" or it didn't happen\n",
    "\n",
    "- You can run cells out of order as you're exploring. It's a good idea to run everything top to bottom when you're done to make sure you didn't delete any steps"
   ]
  },
  {
   "cell_type": "markdown",
   "metadata": {},
   "source": [
    "## Getting help\n",
    "\n",
    "#### See possible completions with `<TAB>`\n",
    "\n",
    "```ipython\n",
    "In [0]: from email import <TAB>\n",
    "```"
   ]
  },
  {
   "cell_type": "code",
   "execution_count": 3,
   "metadata": {},
   "outputs": [],
   "source": [
    "from email.mime.multipart import MIMEMultipart"
   ]
  },
  {
   "cell_type": "code",
   "execution_count": 4,
   "metadata": {},
   "outputs": [
    {
     "ename": "TypeError",
     "evalue": "as_bytes() missing 1 required positional argument: 'self'",
     "output_type": "error",
     "traceback": [
      "\u001b[0;31m---------------------------------------------------------------------------\u001b[0m",
      "\u001b[0;31mTypeError\u001b[0m                                 Traceback (most recent call last)",
      "\u001b[0;32m<ipython-input-4-7eaeca5f0682>\u001b[0m in \u001b[0;36m<module>\u001b[0;34m\u001b[0m\n\u001b[0;32m----> 1\u001b[0;31m \u001b[0mMIMEMultipart\u001b[0m\u001b[0;34m.\u001b[0m\u001b[0mas_bytes\u001b[0m\u001b[0;34m(\u001b[0m\u001b[0;34m)\u001b[0m\u001b[0;34m\u001b[0m\u001b[0;34m\u001b[0m\u001b[0m\n\u001b[0m",
      "\u001b[0;31mTypeError\u001b[0m: as_bytes() missing 1 required positional argument: 'self'"
     ]
    }
   ],
   "source": [
    "MIMEMultipart.as_bytes()"
   ]
  },
  {
   "cell_type": "markdown",
   "metadata": {},
   "source": [
    "#### See function arguments by holding down shift and hitting `<TAB>`:\n",
    "    \n",
    "- one time: pops up simplified help\n",
    "- two times: expands simplified help\n",
    "- four times: brings up full help for function you're calling\n"
   ]
  },
  {
   "cell_type": "code",
   "execution_count": 5,
   "metadata": {},
   "outputs": [],
   "source": [
    "import os"
   ]
  },
  {
   "cell_type": "code",
   "execution_count": 6,
   "metadata": {},
   "outputs": [
    {
     "ename": "TypeError",
     "evalue": "open() missing required argument 'path' (pos 1)",
     "output_type": "error",
     "traceback": [
      "\u001b[0;31m---------------------------------------------------------------------------\u001b[0m",
      "\u001b[0;31mTypeError\u001b[0m                                 Traceback (most recent call last)",
      "\u001b[0;32m<ipython-input-6-c1b83b7e1979>\u001b[0m in \u001b[0;36m<module>\u001b[0;34m\u001b[0m\n\u001b[0;32m----> 1\u001b[0;31m \u001b[0mos\u001b[0m\u001b[0;34m.\u001b[0m\u001b[0mopen\u001b[0m\u001b[0;34m(\u001b[0m\u001b[0;34m)\u001b[0m\u001b[0;34m\u001b[0m\u001b[0;34m\u001b[0m\u001b[0m\n\u001b[0m",
      "\u001b[0;31mTypeError\u001b[0m: open() missing required argument 'path' (pos 1)"
     ]
    }
   ],
   "source": [
    "os.open()"
   ]
  },
  {
   "cell_type": "code",
   "execution_count": 7,
   "metadata": {},
   "outputs": [],
   "source": [
    "os?"
   ]
  },
  {
   "cell_type": "markdown",
   "metadata": {},
   "source": [
    "\n",
    "#### Bring up help on an object\n",
    "\n",
    "To bring up help:\n",
    "\n",
    "```ipython\n",
    "In [0]: my_function?\n",
    "```\n",
    "\n",
    "To bring up help with source code if available:\n",
    "\n",
    "```ipython\n",
    "In [0]: my_function??\n",
    "```"
   ]
  },
  {
   "cell_type": "code",
   "execution_count": 8,
   "metadata": {},
   "outputs": [],
   "source": [
    "def fun():\n",
    "    'Docstring'\n",
    "    print('This is my function')"
   ]
  },
  {
   "cell_type": "code",
   "execution_count": 9,
   "metadata": {},
   "outputs": [
    {
     "name": "stdout",
     "output_type": "stream",
     "text": [
      "Help on function fun in module __main__:\n",
      "\n",
      "fun()\n",
      "    Docstring\n",
      "\n"
     ]
    }
   ],
   "source": [
    "help(fun)"
   ]
  },
  {
   "cell_type": "code",
   "execution_count": 10,
   "metadata": {},
   "outputs": [],
   "source": [
    "fun?"
   ]
  },
  {
   "cell_type": "code",
   "execution_count": 11,
   "metadata": {},
   "outputs": [],
   "source": [
    "fun??"
   ]
  },
  {
   "cell_type": "markdown",
   "metadata": {},
   "source": [
    "#### To get a list of all the %magic commands\n",
    "\n",
    "```ipython\n",
    "In [0]: %magic\n",
    "```"
   ]
  },
  {
   "cell_type": "code",
   "execution_count": 12,
   "metadata": {},
   "outputs": [],
   "source": [
    "%magic"
   ]
  },
  {
   "cell_type": "code",
   "execution_count": 13,
   "metadata": {},
   "outputs": [],
   "source": [
    "magic"
   ]
  },
  {
   "cell_type": "markdown",
   "metadata": {},
   "source": [
    "# Interacting with the shell"
   ]
  },
  {
   "cell_type": "code",
   "execution_count": 14,
   "metadata": {},
   "outputs": [
    {
     "name": "stdout",
     "output_type": "stream",
     "text": [
      "['rick446']\n"
     ]
    }
   ],
   "source": [
    "x = !whoami\n",
    "print(x)"
   ]
  },
  {
   "cell_type": "code",
   "execution_count": 15,
   "metadata": {},
   "outputs": [
    {
     "name": "stdout",
     "output_type": "stream",
     "text": [
      "-rw-r--r--  1 rick446  staff    2290 May  2 12:17 Setup-Anaconda.ipynb\r\n",
      "-rw-r--r--  1 rick446  staff    5001 May  2 12:17 Setup-Pip.ipynb\r\n",
      "-rw-r--r--  1 rick446  staff    6682 May  2 12:17 core-syntax-lab-solution.ipynb\r\n",
      "-rw-r--r--  1 rick446  staff    2419 May  2 12:17 core-syntax-lab.ipynb\r\n",
      "-rw-r--r--  1 rick446  staff   50860 May  2 12:17 fast-intro-python.ipynb\r\n",
      "-rw-r--r--  1 rick446  staff   55834 May  2 12:17 jupyter.ipynb\r\n",
      "-rw-r--r--  1 rick446  staff   20645 May  2 12:17 pandas-aggregation-lab-solution.ipynb\r\n",
      "-rw-r--r--  1 rick446  staff    1519 May  2 12:17 pandas-aggregation-lab.ipynb\r\n",
      "-rw-r--r--  1 rick446  staff   32130 May  2 12:17 pandas-aggregation.ipynb\r\n",
      "-rw-r--r--  1 rick446  staff   24586 May  2 12:17 pandas-exploration-lab-solution.ipynb\r\n",
      "-rw-r--r--  1 rick446  staff    2548 May  2 12:17 pandas-exploration-lab.ipynb\r\n",
      "-rw-r--r--  1 rick446  staff   80015 May  2 12:17 pandas-exploration.ipynb\r\n",
      "-rw-r--r--  1 rick446  staff   12376 May  2 12:17 pandas-io-lab-solution.ipynb\r\n",
      "-rw-r--r--  1 rick446  staff    3464 May  2 12:17 pandas-io-lab.ipynb\r\n",
      "-rw-r--r--  1 rick446  staff  108435 May  2 12:17 pandas-io.ipynb\r\n",
      "-rw-r--r--  1 rick446  staff   13306 May  2 12:17 pandas-merging-lab-solution.ipynb\r\n",
      "-rw-r--r--  1 rick446  staff    1640 May  2 12:17 pandas-merging-lab.ipynb\r\n",
      "-rw-r--r--  1 rick446  staff   39165 May  2 12:17 pandas-merging.ipynb\r\n",
      "-rw-r--r--  1 rick446  staff  677123 May  2 12:17 pandas-plotting-lab-solution.ipynb\r\n",
      "-rw-r--r--  1 rick446  staff    2776 May  2 12:17 pandas-plotting-lab.ipynb\r\n",
      "-rw-r--r--  1 rick446  staff  653577 May  2 12:17 pandas-plotting.ipynb\r\n",
      "-rw-r--r--  1 rick446  staff    4833 May  2 12:17 python-data-foundations.ipynb\r\n"
     ]
    }
   ],
   "source": [
    "pattern = '*.ipynb'\n",
    "!ls -l {pattern}"
   ]
  },
  {
   "cell_type": "code",
   "execution_count": 16,
   "metadata": {},
   "outputs": [],
   "source": [
    "pattern = '*.ipynb'\n",
    "filenames = !ls -l {pattern}"
   ]
  },
  {
   "cell_type": "code",
   "execution_count": 17,
   "metadata": {},
   "outputs": [
    {
     "data": {
      "text/plain": [
       "['-rw-r--r--  1 rick446  staff    2290 May  2 12:17 Setup-Anaconda.ipynb',\n",
       " '-rw-r--r--  1 rick446  staff    5001 May  2 12:17 Setup-Pip.ipynb',\n",
       " '-rw-r--r--  1 rick446  staff    6682 May  2 12:17 core-syntax-lab-solution.ipynb',\n",
       " '-rw-r--r--  1 rick446  staff    2419 May  2 12:17 core-syntax-lab.ipynb',\n",
       " '-rw-r--r--  1 rick446  staff   50860 May  2 12:17 fast-intro-python.ipynb',\n",
       " '-rw-r--r--  1 rick446  staff   55834 May  2 12:17 jupyter.ipynb',\n",
       " '-rw-r--r--  1 rick446  staff   20645 May  2 12:17 pandas-aggregation-lab-solution.ipynb',\n",
       " '-rw-r--r--  1 rick446  staff    1519 May  2 12:17 pandas-aggregation-lab.ipynb',\n",
       " '-rw-r--r--  1 rick446  staff   32130 May  2 12:17 pandas-aggregation.ipynb',\n",
       " '-rw-r--r--  1 rick446  staff   24586 May  2 12:17 pandas-exploration-lab-solution.ipynb',\n",
       " '-rw-r--r--  1 rick446  staff    2548 May  2 12:17 pandas-exploration-lab.ipynb',\n",
       " '-rw-r--r--  1 rick446  staff   80015 May  2 12:17 pandas-exploration.ipynb',\n",
       " '-rw-r--r--  1 rick446  staff   12376 May  2 12:17 pandas-io-lab-solution.ipynb',\n",
       " '-rw-r--r--  1 rick446  staff    3464 May  2 12:17 pandas-io-lab.ipynb',\n",
       " '-rw-r--r--  1 rick446  staff  108435 May  2 12:17 pandas-io.ipynb',\n",
       " '-rw-r--r--  1 rick446  staff   13306 May  2 12:17 pandas-merging-lab-solution.ipynb',\n",
       " '-rw-r--r--  1 rick446  staff    1640 May  2 12:17 pandas-merging-lab.ipynb',\n",
       " '-rw-r--r--  1 rick446  staff   39165 May  2 12:17 pandas-merging.ipynb',\n",
       " '-rw-r--r--  1 rick446  staff  677123 May  2 12:17 pandas-plotting-lab-solution.ipynb',\n",
       " '-rw-r--r--  1 rick446  staff    2776 May  2 12:17 pandas-plotting-lab.ipynb',\n",
       " '-rw-r--r--  1 rick446  staff  653577 May  2 12:17 pandas-plotting.ipynb',\n",
       " '-rw-r--r--  1 rick446  staff    4833 May  2 12:17 python-data-foundations.ipynb']"
      ]
     },
     "execution_count": 17,
     "metadata": {},
     "output_type": "execute_result"
    }
   ],
   "source": [
    "filenames"
   ]
  },
  {
   "cell_type": "code",
   "execution_count": 20,
   "metadata": {},
   "outputs": [
    {
     "name": "stdout",
     "output_type": "stream",
     "text": [
      "This is a little script\n",
      "Iteration 1\n",
      "Iteration 2\n",
      "Iteration 3\n",
      "rick446\n"
     ]
    }
   ],
   "source": [
    "%%bash\n",
    "echo \"This is a little script\"\n",
    "for i in $(seq 3); do\n",
    "    echo \"Iteration\" $i\n",
    "done\n",
    "whoami\n",
    "say \"My name is Rick Copeland\""
   ]
  }
 ],
 "metadata": {
  "kernelspec": {
   "display_name": "Python 3",
   "language": "python",
   "name": "python3"
  },
  "language_info": {
   "codemirror_mode": {
    "name": "ipython",
    "version": 3
   },
   "file_extension": ".py",
   "mimetype": "text/x-python",
   "name": "python",
   "nbconvert_exporter": "python",
   "pygments_lexer": "ipython3",
   "version": "3.7.6"
  }
 },
 "nbformat": 4,
 "nbformat_minor": 2
}
