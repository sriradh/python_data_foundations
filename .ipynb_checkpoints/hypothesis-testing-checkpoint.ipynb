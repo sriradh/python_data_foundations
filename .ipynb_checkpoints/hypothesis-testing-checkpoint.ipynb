{
 "cells": [
  {
   "cell_type": "markdown",
   "metadata": {
    "slideshow": {
     "slide_type": "slide"
    }
   },
   "source": [
    "# Hypothesis Testing\n",
    "\n",
    "... aka how do we know it's not just noise?"
   ]
  },
  {
   "cell_type": "markdown",
   "metadata": {
    "slideshow": {
     "slide_type": "slide"
    }
   },
   "source": [
    "# Example: Students with high IQ scores\n",
    "\n",
    "Some principal claims that the students at their school have higher IQ scores than average. Is this true?\n",
    "\n",
    "Experiment: take a random sample of 30 students at the school and test their IQ\n",
    "Result: the mean IQ measured is 112\n",
    "\n",
    "We know that the mean IQ of all people is 100 (that's how the test is designed). So we're good to go, right?"
   ]
  },
  {
   "cell_type": "markdown",
   "metadata": {
    "slideshow": {
     "slide_type": "slide"
    }
   },
   "source": [
    "# Maybe not...\n",
    "\n",
    "(There could be random variation in how well a *given* student performs, but we'll ignore that...)\n",
    "\n",
    "Maybe if we selected different students, we'd get different (lower) results. It's possible we happened to pick the 30 highest IQ students at the school..."
   ]
  },
  {
   "cell_type": "markdown",
   "metadata": {
    "slideshow": {
     "slide_type": "slide"
    }
   },
   "source": [
    "# Step 1: Formulate the \"null hypothesis\" H0\n",
    "\n",
    "In this case, our students do not have a higher IQ than the population on average"
   ]
  },
  {
   "cell_type": "markdown",
   "metadata": {
    "slideshow": {
     "slide_type": "slide"
    }
   },
   "source": [
    "# Step 2: Formulate the \"alternative hypothesis\" Ha\n",
    "\n",
    "Our students **do** have a higher IQ than the population on average"
   ]
  },
  {
   "cell_type": "markdown",
   "metadata": {
    "slideshow": {
     "slide_type": "slide"
    }
   },
   "source": [
    "# Step 3: See if the data supports **rejecting** H0, and with what probability\n",
    "\n",
    "How often does a 30-element random sample *of the general population* end up scoring 112 or higher?"
   ]
  },
  {
   "cell_type": "code",
   "execution_count": 1,
   "metadata": {
    "slideshow": {
     "slide_type": "skip"
    }
   },
   "outputs": [],
   "source": [
    "%matplotlib inline\n",
    "import numpy as np\n",
    "import scipy.stats\n",
    "import matplotlib.pyplot as plt\n",
    "\n",
    "IQ = scipy.stats.norm(loc=100, scale=15)\n",
    "xs = np.r_[50:150:50j]"
   ]
  },
  {
   "cell_type": "markdown",
   "metadata": {
    "slideshow": {
     "slide_type": "slide"
    }
   },
   "source": [
    "# IQ Distribution\n",
    "\n",
    "The IQ test is calibrated to have a mean of 100 and a standard deviation of 15:"
   ]
  },
  {
   "cell_type": "code",
   "execution_count": 2,
   "metadata": {
    "slideshow": {
     "slide_type": "-"
    }
   },
   "outputs": [
    {
     "data": {
      "image/png": "[encoded data removed]",
      "text/plain": [
       "<Figure size 432x288 with 1 Axes>"
      ]
     },
     "metadata": {
      "needs_background": "light"
     },
     "output_type": "display_data"
    }
   ],
   "source": [
    "plt.plot(xs, IQ.pdf(xs))\n",
    "plt.title('IQ distribution');"
   ]
  },
  {
   "cell_type": "markdown",
   "metadata": {
    "slideshow": {
     "slide_type": "slide"
    }
   },
   "source": [
    "# Sample distribution\n",
    "\n",
    "The expected standard deviation of the mean value of a **sampling** of this population is\n",
    "\n",
    "```std(population) / sqrt(n_samples)```\n",
    "\n",
    "(Intuitively, the more samples you take, the more likely their mean is closer to the population mean)\n",
    "\n",
    "For 30 students, this is"
   ]
  },
  {
   "cell_type": "code",
   "execution_count": 3,
   "metadata": {},
   "outputs": [
    {
     "data": {
      "text/plain": [
       "2.7386127875258306"
      ]
     },
     "execution_count": 3,
     "metadata": {},
     "output_type": "execute_result"
    }
   ],
   "source": [
    "15 / np.sqrt(30)"
   ]
  },
  {
   "cell_type": "markdown",
   "metadata": {
    "slideshow": {
     "slide_type": "slide"
    }
   },
   "source": [
    "We can plot the distribution of the (null hypothesis) sample:"
   ]
  },
  {
   "cell_type": "code",
   "execution_count": 4,
   "metadata": {},
   "outputs": [
    {
     "data": {
      "image/png": "[encoded data removed]",
      "text/plain": [
       "<Figure size 432x288 with 1 Axes>"
      ]
     },
     "metadata": {
      "needs_background": "light"
     },
     "output_type": "display_data"
    }
   ],
   "source": [
    "IQ_sample = scipy.stats.norm(loc=100, scale=15/np.sqrt(30))\n",
    "\n",
    "xs=np.r_[70:130:80j]\n",
    "plt.plot(xs, IQ_sample.pdf(xs));"
   ]
  },
  {
   "cell_type": "markdown",
   "metadata": {},
   "source": [
    "It *looks* improbable that we would generate a 112 average IQ from a sample of 30 individuals from the general population. Can we formalize this?"
   ]
  },
  {
   "cell_type": "markdown",
   "metadata": {
    "slideshow": {
     "slide_type": "slide"
    }
   },
   "source": [
    "# The Z-test\n",
    "\n",
    "What we want to compute is a ratio between the difference in means divided by the expected deviation:\n",
    "\n",
    "```python\n",
    "Z = (sample_mean - pop_mean) / (pop_std / sqrt(n))\n",
    "```\n",
    "\n",
    "We can then use a lookup table to see the probability of getting a certain Z statistic"
   ]
  },
  {
   "cell_type": "code",
   "execution_count": 5,
   "metadata": {},
   "outputs": [
    {
     "data": {
      "text/plain": [
       "4.381780460041329"
      ]
     },
     "execution_count": 5,
     "metadata": {},
     "output_type": "execute_result"
    }
   ],
   "source": [
    "Z = (112 - 100) / (15 / np.sqrt(30))\n",
    "Z"
   ]
  },
  {
   "cell_type": "markdown",
   "metadata": {
    "slideshow": {
     "slide_type": "slide"
    }
   },
   "source": [
    "We can look up the value at http://www.z-table.com (or other places) to get the probability of various Z values\n",
    "\n",
    "If we want 95% confidence that the there is a true difference in the school's average IQ and the populations, we need a value of `Z >= 1.65`. Our Z value is 4.38, so we can **reject** H0 and say that our students have a higher average IQ than the population."
   ]
  },
  {
   "cell_type": "markdown",
   "metadata": {
    "slideshow": {
     "slide_type": "slide"
    }
   },
   "source": [
    "# Other hypothesis testing\n",
    "\n",
    "The Z test is used for population vs. sample. Other tests are used for other questions:\n",
    "\n",
    "- We use the T-test to test whether two samples differ from each other (i.e. a test group & a control group)\n",
    "- We use the Chi-square test to test whether a two (or more) categorical variables are independent\n",
    "- We use ANOVA (analysis of variance) or the f-test to determine when we have more than two groups\n",
    "\n",
    "In all these cases, the procedure is similar:\n",
    "\n",
    "- Formulate the null and alternative hypotheses\n",
    "- Determine the appropriate distribution for the null hypothesis (Z, T, Chi-Square, or F-distribution)\n",
    "- Determine the critical value to reject the null hypothesis based on your desired p-value (probability/confidence)\n",
    "- Compare the score with the critical value and either *reject* or *fail to reject* the null hypothesis"
   ]
  },
  {
   "cell_type": "markdown",
   "metadata": {},
   "source": [
    "Open the [hypothesis testing lab][hypothesis-testing-lab]\n",
    "\n",
    "[hypothesis-testing-lab]: ./hypothesis-testing-lab.ipynb"
   ]
  }
 ],
 "metadata": {
  "celltoolbar": "Slideshow",
  "kernelspec": {
   "display_name": "Python 3",
   "language": "python",
   "name": "python3"
  },
  "language_info": {
   "codemirror_mode": {
    "name": "ipython",
    "version": 3
   },
   "file_extension": ".py",
   "mimetype": "text/x-python",
   "name": "python",
   "nbconvert_exporter": "python",
   "pygments_lexer": "ipython3",
   "version": "3.7.6"
  }
 },
 "nbformat": 4,
 "nbformat_minor": 2
}
