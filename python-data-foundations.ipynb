{
 "cells": [
  {
   "cell_type": "markdown",
   "metadata": {},
   "source": [
    "# While we are waiting\n",
    "\n",
    "- Download the [courseware][courseware] from **http://bit.ly/python-data-foundations**\n",
    "- Ensure you have completed the [setup instructions][setup] ([notebook][setup-nb])\n",
    "  (alternatively, you can use [pip][setup-pip] ([notebook][setup-pip-nb])\n",
    "\n",
    "[setup]: ./Setup-Anaconda.html\n",
    "[setup-nb]: ./Setup-Anaconda.ipynb\n",
    "[setup-pip]: ./Setup-Pip.html\n",
    "[setup-pip-nb]: ./Setup-Pip.ipynb\n",
    "\n",
    "[courseware]: http://bit.ly/python-data-foundations"
   ]
  },
  {
   "cell_type": "markdown",
   "metadata": {},
   "source": [
    "# Python for Data Foundations\n",
    "\n",
    "Rick Copeland<br/>\n",
    "rick@arborian.com<br/>\n",
    "\n",
    "Schedule (Times in PDT): \n",
    "\n",
    "- 9am - 4pm: Lecture and labs\n",
    "- 12pm - 1pm: Lunch\n",
    "\n",
    "Breaks as needed, approx every 90 minutes or so, in addition to labs"
   ]
  },
  {
   "cell_type": "markdown",
   "metadata": {},
   "source": [
    "# About You and Me\n",
    "* What is your job title/what do you do?\n",
    "* Python / ML / data science experience? Other languages?\n",
    "* What do you want to get out of the course? (Particular topics?)"
   ]
  },
  {
   "cell_type": "markdown",
   "metadata": {},
   "source": [
    "# Course Overview and Rough Schedule\n",
    "\n",
    "## Day 1: Python, Jupyter,  and Pandas\n",
    "\n",
    "- [Jupyter, briefly][jupyter]\n",
    "- [Introduction to Python][fast-intro-python]\n",
    "- Pandas\n",
    "  - [Intro, importing and exporting data][pandas-io]\n",
    "  - [Filtering and exploring data][pandas-exploration]\n",
    "  - [Merging and Concatenation][pandas-merging]\n",
    "  - [Data Aggregation][pandas-aggregation]\n",
    "  - [Basic Visualization][pandas-plotting]\n",
    "  \n",
    "## Day 2: Basic stats and Data Engineering\n",
    "\n",
    "- Gentle intro/review of statistics\n",
    "  - [Random variables and distributions][rv-and-distributions]\n",
    "  - [Hypothesis testing][hypothesis-testing]\n",
    "  \n",
    "- Introducing machine learning\n",
    "  - [Machine learning concepts][ml-concepts]\n",
    "  - [Curse of Dimensionality][dimensionality]\n",
    "  \n",
    "- Data Engineering\n",
    "  - [Feature engineering and selection][feature-engineering]\n",
    "  - [Feature scaling and normalization][feature-scaling]\n",
    "  - [Dimensionality reduction with PCA][pca]\n",
    "  \n",
    "## Day 3: Introduction to Machine Learning\n",
    "\n",
    "- [Introduction to SciKit-Learn][sklearn-intro]\n",
    "- Survey of ML Models\n",
    "  - [Linear Regression][ml-linreg]\n",
    "  - [Logistic Regression][ml-logreg]\n",
    "  - [Trees and Forests][sklearn-tree]\n",
    "  - [K-Means Clustering][kmeans]\n",
    "  - [Support vector machines][svm]\n",
    "- Model evaluation\n",
    "  - [Evaluating regression models][ml-regression-metrics]\n",
    "  - [Evaluating classifiers][ml-classifier-metrics]\n",
    "- Tuning your models\n",
    "  - [Trade-offs][ml-tradeoffs]\n",
    "  - [Tuning via cross-validation][ml-tuning]\n",
    "  \n",
    "[jupyter]: ./jupyter.ipynb\n",
    "[fast-intro-python]: ./fast-intro-python.ipynb\n",
    "[pandas-io]: ./pandas-io.ipynb\n",
    "[pandas-exploration]: ./pandas-exploration.ipynb\n",
    "[pandas-merging]: ./pandas-merging.ipynb\n",
    "[pandas-aggregation]: ./pandas-aggregation.ipynb\n",
    "[pandas-plotting]: ./pandas-plotting.ipynb\n",
    "\n",
    "[rv-and-distributions]: ./rv-and-distributions.ipynb\n",
    "[hypothesis-testing]: ./hypothesis-testing.ipynb\n",
    "[ml-concepts]: ./ml-concepts.ipynb\n",
    "[dimensionality]: ./dimensionality.ipynb\n",
    "[feature-engineering]: ./feature-engineering.ipynb\n",
    "[feature-scaling]: ./feature-scaling.ipynb\n",
    "[pca]: ./pca.ipynb\n",
    "\n",
    "[sklearn-intro]: ./sklearn-intro.ipynb\n",
    "[ml-linreg]: ./ml-linreg.ipynb\n",
    "[ml-logreg]: ./ml-logreg.ipynb\n",
    "[sklearn-tree]: ./sklearn-tree.ipynb\n",
    "[kmeans]: ./kmeans.ipynb\n",
    "[svm]: ./svm.ipynb\n",
    "[ml-regression-metrics]: ./ml-regression-metrics.ipynb\n",
    "[ml-classifier-metrics]: ./ml-classifier-metrics.ipynb\n",
    "[ml-tradeoffs]: ./ml-tradeoffs.ipynb\n",
    "[ml-tuning]: ./ml-tuning.ipynb"
   ]
  }
 ],
 "metadata": {
  "kernelspec": {
   "display_name": "Python 3",
   "language": "python",
   "name": "python3"
  },
  "language_info": {
   "codemirror_mode": {
    "name": "ipython",
    "version": 3
   },
   "file_extension": ".py",
   "mimetype": "text/x-python",
   "name": "python",
   "nbconvert_exporter": "python",
   "pygments_lexer": "ipython3",
   "version": "3.7.6"
  }
 },
 "nbformat": 4,
 "nbformat_minor": 2
}
